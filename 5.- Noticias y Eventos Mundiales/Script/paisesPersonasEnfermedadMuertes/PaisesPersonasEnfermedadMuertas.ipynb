{
 "cells": [
  {
   "cell_type": "code",
   "execution_count": 6,
   "id": "2521234c-e006-4e07-8037-e8ffca83f189",
   "metadata": {},
   "outputs": [
    {
     "name": "stdout",
     "output_type": "stream",
     "text": [
      "Archivo CSV 'Analisis.PaisesPersonasEnfermedadMuertas.csv' generado exitosamente.\n"
     ]
    }
   ],
   "source": [
    "import json\n",
    "import csv\n",
    "import os\n",
    "\n",
    "# Nombre del archivo de entrada (JSON) y de salida (CSV)\n",
    "input_file = 'Analisis.PaisesPersonasEnfermedadMuertas.json'\n",
    "output_file = 'Analisis.PaisesPersonasEnfermedadMuertas.csv'\n",
    "\n",
    "# Verificar si el archivo JSON existe\n",
    "if not os.path.exists(input_file):\n",
    "    print(f\"Error: El archivo '{input_file}' no existe.\")\n",
    "    exit(1)\n",
    "\n",
    "# Inicializar la variable data\n",
    "data = []\n",
    "\n",
    "# Intentar leer y procesar el archivo JSON\n",
    "try:\n",
    "    with open(input_file, 'r', encoding='utf-8') as f:\n",
    "        data = json.load(f)\n",
    "except json.JSONDecodeError as e:\n",
    "    print(f\"Error al decodificar el archivo JSON: {e}\")\n",
    "    exit(1)\n",
    "except UnicodeDecodeError as e:\n",
    "    print(f\"Error al leer el archivo JSON debido a la codificación: {e}\")\n",
    "    # Intentar con otra codificación\n",
    "    try:\n",
    "        with open(input_file, 'r', encoding='latin-1') as f:\n",
    "            data = json.load(f)\n",
    "    except Exception as e:\n",
    "        print(f\"Error al intentar con otra codificación: {e}\")\n",
    "        exit(1)\n",
    "except Exception as e:\n",
    "    print(f\"Error al leer el archivo '{input_file}': {e}\")\n",
    "    exit(1)\n",
    "\n",
    "# Verificar si la lista de datos está vacía o si no contiene diccionarios\n",
    "if not data:\n",
    "    print(f\"Error: El archivo '{input_file}' no contiene datos o está vacío.\")\n",
    "    exit(1)\n",
    "elif not isinstance(data, list) or not all(isinstance(item, dict) for item in data):\n",
    "    print(f\"Error: El archivo JSON debe contener una lista de diccionarios.\")\n",
    "    exit(1)\n",
    "\n",
    "# Obtener las claves del primer diccionario como encabezados del CSV\n",
    "if len(data) == 0:\n",
    "    print(f\"Error: La lista de datos está vacía.\")\n",
    "    exit(1)\n",
    "\n",
    "headers = data[0].keys()\n",
    "\n",
    "# Función para marcar campos vacíos\n",
    "def marcar_vacios(record):\n",
    "    return {key: (value if value else 'VACÍO') for key, value in record.items()}\n",
    "\n",
    "# Intentar escribir en el archivo CSV\n",
    "try:\n",
    "    with open(output_file, 'w', newline='', encoding='utf-8') as f:\n",
    "        writer = csv.DictWriter(f, fieldnames=headers)\n",
    "        writer.writeheader()\n",
    "        for record in data:\n",
    "            writer.writerow(marcar_vacios(record))\n",
    "    print(f\"Archivo CSV '{output_file}' generado exitosamente.\")\n",
    "except IOError as e:\n",
    "    print(f\"Error al escribir en el archivo '{output_file}': {e}\")\n",
    "except Exception as e:\n",
    "    print(f\"Ocurrió un error inesperado: {e}\")\n"
   ]
  },
  {
   "cell_type": "code",
   "execution_count": null,
   "id": "036755ef-c0ee-4ab4-9fd7-850ecbb9a3e0",
   "metadata": {},
   "outputs": [],
   "source": []
  }
 ],
 "metadata": {
  "kernelspec": {
   "display_name": "Python 3 (ipykernel)",
   "language": "python",
   "name": "python3"
  },
  "language_info": {
   "codemirror_mode": {
    "name": "ipython",
    "version": 3
   },
   "file_extension": ".py",
   "mimetype": "text/x-python",
   "name": "python",
   "nbconvert_exporter": "python",
   "pygments_lexer": "ipython3",
   "version": "3.12.4"
  }
 },
 "nbformat": 4,
 "nbformat_minor": 5
}
