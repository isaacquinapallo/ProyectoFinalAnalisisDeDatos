{
 "cells": [
  {
   "cell_type": "code",
   "execution_count": 3,
   "id": "b286fdcf-47c6-424d-8395-5e4bd1954ec1",
   "metadata": {},
   "outputs": [
    {
     "name": "stdout",
     "output_type": "stream",
     "text": [
      "Archivo CSV 'fechasPersonasEnfermedad.csv' generado exitosamente.\n"
     ]
    }
   ],
   "source": [
    "import json\n",
    "import csv\n",
    "\n",
    "# Nombre del archivo de entrada (JSON) y de salida (CSV)\n",
    "input_file = 'fechasPesonasEnfermedad.json'\n",
    "output_file = 'fechasPersonasEnfermedad.csv'\n",
    "\n",
    "# Leer el archivo JSON\n",
    "with open(input_file, 'r') as f:\n",
    "    data = json.load(f)\n",
    "\n",
    "# Obtener las claves del primer diccionario como encabezados del CSV\n",
    "headers = data[0].keys()\n",
    "\n",
    "# Función para marcar campos vacíos\n",
    "def marcar_vacios(record):\n",
    "    return {key: (value if value else 'VACÍO') for key, value in record.items()}\n",
    "\n",
    "# Escribir en el archivo CSV\n",
    "with open(output_file, 'w', newline='') as f:\n",
    "    writer = csv.DictWriter(f, fieldnames=headers)\n",
    "    writer.writeheader()\n",
    "    for record in data:\n",
    "        writer.writerow(marcar_vacios(record))\n",
    "\n",
    "print(f\"Archivo CSV '{output_file}' generado exitosamente.\")"
   ]
  },
  {
   "cell_type": "code",
   "execution_count": null,
   "id": "4d373381-2266-4863-a0f7-6e19e118746b",
   "metadata": {},
   "outputs": [],
   "source": []
  }
 ],
 "metadata": {
  "kernelspec": {
   "display_name": "Python 3 (ipykernel)",
   "language": "python",
   "name": "python3"
  },
  "language_info": {
   "codemirror_mode": {
    "name": "ipython",
    "version": 3
   },
   "file_extension": ".py",
   "mimetype": "text/x-python",
   "name": "python",
   "nbconvert_exporter": "python",
   "pygments_lexer": "ipython3",
   "version": "3.12.4"
  }
 },
 "nbformat": 4,
 "nbformat_minor": 5
}
