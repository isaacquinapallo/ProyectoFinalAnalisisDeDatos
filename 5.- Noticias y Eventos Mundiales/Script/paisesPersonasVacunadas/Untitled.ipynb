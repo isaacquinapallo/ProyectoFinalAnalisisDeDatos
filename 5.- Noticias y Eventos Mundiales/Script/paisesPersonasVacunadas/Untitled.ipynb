{
 "cells": [
  {
   "cell_type": "code",
   "execution_count": 9,
   "id": "23232e60-7cb0-4f97-a754-7985e0500a9c",
   "metadata": {},
   "outputs": [
    {
     "name": "stdout",
     "output_type": "stream",
     "text": [
      "Requirement already satisfied: pandas in c:\\users\\user\\appdata\\local\\programs\\python\\python312\\lib\\site-packages (2.2.2)\n",
      "Requirement already satisfied: xlrd in c:\\users\\user\\appdata\\local\\programs\\python\\python312\\lib\\site-packages (2.0.1)\n",
      "Requirement already satisfied: openpyxl in c:\\users\\user\\appdata\\local\\programs\\python\\python312\\lib\\site-packages (3.1.4)\n",
      "Requirement already satisfied: numpy>=1.26.0 in c:\\users\\user\\appdata\\local\\programs\\python\\python312\\lib\\site-packages (from pandas) (1.26.4)\n",
      "Requirement already satisfied: python-dateutil>=2.8.2 in c:\\users\\user\\appdata\\local\\programs\\python\\python312\\lib\\site-packages (from pandas) (2.9.0.post0)\n",
      "Requirement already satisfied: pytz>=2020.1 in c:\\users\\user\\appdata\\local\\programs\\python\\python312\\lib\\site-packages (from pandas) (2024.1)\n",
      "Requirement already satisfied: tzdata>=2022.7 in c:\\users\\user\\appdata\\local\\programs\\python\\python312\\lib\\site-packages (from pandas) (2024.1)\n",
      "Requirement already satisfied: et-xmlfile in c:\\users\\user\\appdata\\local\\programs\\python\\python312\\lib\\site-packages (from openpyxl) (1.1.0)\n",
      "Requirement already satisfied: six>=1.5 in c:\\users\\user\\appdata\\local\\programs\\python\\python312\\lib\\site-packages (from python-dateutil>=2.8.2->pandas) (1.16.0)\n",
      "Note: you may need to restart the kernel to use updated packages.\n"
     ]
    }
   ],
   "source": [
    "pip install pandas xlrd openpyxl"
   ]
  },
  {
   "cell_type": "code",
   "execution_count": 11,
   "id": "5ee2ea08-e89c-4787-a1d8-5ce76cd5a6b0",
   "metadata": {},
   "outputs": [
    {
     "name": "stdout",
     "output_type": "stream",
     "text": [
      "Archivo CSV 'paisesPersonasVacunadas.csv' generado exitosamente.\n"
     ]
    }
   ],
   "source": [
    "import pandas as pd\n",
    "import os\n",
    "\n",
    "# Nombre del archivo de entrada (Excel) y de salida (CSV)\n",
    "input_file = 'paisesPersonasVacunadas.xlsx'  # Cambia la extensión a .xls si es necesario\n",
    "output_file = 'paisesPersonasVacunadas.csv'\n",
    "\n",
    "# Verificar si el archivo Excel existe\n",
    "if not os.path.exists(input_file):\n",
    "    print(f\"Error: El archivo '{input_file}' no existe.\")\n",
    "    exit(1)\n",
    "\n",
    "# Intentar leer el archivo Excel y convertirlo a CSV\n",
    "try:\n",
    "    # Leer el archivo Excel\n",
    "    df = pd.read_excel(input_file, engine='openpyxl')  # Usa 'xlrd' para .xls\n",
    "except Exception as e:\n",
    "    print(f\"Error al leer el archivo Excel: {e}\")\n",
    "    exit(1)\n",
    "\n",
    "# Intentar escribir el archivo CSV\n",
    "try:\n",
    "    df.to_csv(output_file, index=False, encoding='utf-8')\n",
    "    print(f\"Archivo CSV '{output_file}' generado exitosamente.\")\n",
    "except Exception as e:\n",
    "    print(f\"Error al escribir el archivo CSV: {e}\")\n",
    "    exit(1)"
   ]
  },
  {
   "cell_type": "code",
   "execution_count": null,
   "id": "599c6dfb-0f14-4b75-847f-92d8ec93fe7e",
   "metadata": {},
   "outputs": [],
   "source": []
  }
 ],
 "metadata": {
  "kernelspec": {
   "display_name": "Python 3 (ipykernel)",
   "language": "python",
   "name": "python3"
  },
  "language_info": {
   "codemirror_mode": {
    "name": "ipython",
    "version": 3
   },
   "file_extension": ".py",
   "mimetype": "text/x-python",
   "name": "python",
   "nbconvert_exporter": "python",
   "pygments_lexer": "ipython3",
   "version": "3.12.4"
  }
 },
 "nbformat": 4,
 "nbformat_minor": 5
}
